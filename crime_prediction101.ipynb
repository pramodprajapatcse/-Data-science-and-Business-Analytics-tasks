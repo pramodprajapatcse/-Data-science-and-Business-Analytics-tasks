{
  "cells": [
    {
      "cell_type": "markdown",
      "metadata": {
        "id": "view-in-github",
        "colab_type": "text"
      },
      "source": [
        "<a href=\"https://colab.research.google.com/github/pramodprajapatcse/-Data-science-and-Business-Analytics-tasks/blob/main/crime_prediction101.ipynb\" target=\"_parent\"><img src=\"https://colab.research.google.com/assets/colab-badge.svg\" alt=\"Open In Colab\"/></a>"
      ]
    },
    {
      "cell_type": "markdown",
      "metadata": {
        "id": "NTbeiOsNIJdy"
      },
      "source": [
        "## CS 584 Machine Learning : Homework Project: Crime Prediction\n",
        "---\n",
        "### Team Members:\n",
        " 1 Pramod Prajapat\n",
        " 2 Jatin Garg\n",
        " 3 Shashi Bhushan Kumar\n"
      ]
    },
    {
      "cell_type": "code",
      "execution_count": 2,
      "metadata": {
        "id": "1F3goGlUIJd1"
      },
      "outputs": [],
      "source": [
        "import pandas as pd # panda's nickname is pd\n",
        "import numpy as np\n",
        "import sklearn.metrics as metrics\n",
        "from sklearn.tree import DecisionTreeClassifier, export_graphviz\n",
        "from sklearn import svm\n",
        "from sklearn.model_selection import cross_val_score\n",
        "from sklearn.linear_model import LogisticRegression\n",
        "from  sklearn.linear_model import LinearRegression\n",
        "from sklearn.naive_bayes import GaussianNB\n",
        "from sklearn.model_selection import validation_curve\n",
        "from sklearn.preprocessing import binarize\n",
        "import matplotlib.pyplot as plot\n",
        "from sklearn import linear_model\n",
        "from IPython.display import Image\n",
        "from sklearn.impute import SimpleImputer\n",
        "\n",
        "from sklearn.preprocessing import PolynomialFeatures\n",
        "from sklearn import tree\n",
        "import sklearn.preprocessing as prep\n",
        "import pydotplus\n",
        "import math\n",
        "from sklearn.linear_model import RidgeCV\n",
        "import sklearn.linear_model as linear_model\n",
        "from sklearn.model_selection import GridSearchCV\n",
        "from sklearn.cluster import KMeans\n",
        "from sklearn.ensemble import GradientBoostingClassifier\n",
        "from sklearn.ensemble import RandomForestClassifier\n",
        "import matplotlib.pyplot as plt"
      ]
    },
    {
      "cell_type": "markdown",
      "metadata": {
        "id": "jY6BQh6WIJd3"
      },
      "source": [
        "#### Load the communities-crime-clean.csv file into a dataframe object\n"
      ]
    },
    {
      "cell_type": "code",
      "execution_count": 6,
      "metadata": {
        "colab": {
          "base_uri": "https://localhost:8080/",
          "height": 256
        },
        "id": "8vvdmmFUIJd4",
        "outputId": "8f9fdd22-94d0-4d6b-c8db-2b767a87500c"
      },
      "outputs": [
        {
          "output_type": "execute_result",
          "data": {
            "text/plain": [
              "   state      communityname  fold  population  householdsize  racepctblack  \\\n",
              "0      1      Alabastercity     7        0.01           0.61          0.21   \n",
              "1      1  AlexanderCitycity    10        0.01           0.41          0.55   \n",
              "2      1       Annistoncity     3        0.03           0.34          0.86   \n",
              "3      1         Athenscity     8        0.01           0.38          0.35   \n",
              "4      1         Auburncity     1        0.04           0.37          0.32   \n",
              "\n",
              "   racePctWhite  racePctAsian  racePctHisp  agePct12t21  ...  PctForeignBorn  \\\n",
              "0          0.83          0.02         0.01         0.41  ...            0.03   \n",
              "1          0.57          0.01         0.00         0.47  ...            0.00   \n",
              "2          0.30          0.04         0.01         0.41  ...            0.04   \n",
              "3          0.71          0.04         0.01         0.39  ...            0.03   \n",
              "4          0.70          0.21         0.02         1.00  ...            0.12   \n",
              "\n",
              "   PctBornSameState  PctSameHouse85  PctSameCity85  PctSameState85  LandArea  \\\n",
              "0              0.70            0.40           0.34            0.57      0.05   \n",
              "1              0.93            0.66           0.82            0.84      0.11   \n",
              "2              0.77            0.59           0.70            0.64      0.06   \n",
              "3              0.78            0.56           0.67            0.71      0.09   \n",
              "4              0.49            0.12           0.00            0.15      0.09   \n",
              "\n",
              "   PopDens  PctUsePubTrans  LemasPctOfficDrugUn  ViolentCrimesPerPop  \n",
              "0     0.06            0.01                  0.0                 0.06  \n",
              "1     0.03            0.01                  0.0                 0.14  \n",
              "2     0.11            0.04                  0.0                 1.00  \n",
              "3     0.05            0.00                  0.0                 0.23  \n",
              "4     0.09            0.01                  0.0                 0.15  \n",
              "\n",
              "[5 rows x 104 columns]"
            ],
            "text/html": [
              "\n",
              "  <div id=\"df-976c22fc-af45-4e48-bff4-f580a2d8f14e\" class=\"colab-df-container\">\n",
              "    <div>\n",
              "<style scoped>\n",
              "    .dataframe tbody tr th:only-of-type {\n",
              "        vertical-align: middle;\n",
              "    }\n",
              "\n",
              "    .dataframe tbody tr th {\n",
              "        vertical-align: top;\n",
              "    }\n",
              "\n",
              "    .dataframe thead th {\n",
              "        text-align: right;\n",
              "    }\n",
              "</style>\n",
              "<table border=\"1\" class=\"dataframe\">\n",
              "  <thead>\n",
              "    <tr style=\"text-align: right;\">\n",
              "      <th></th>\n",
              "      <th>state</th>\n",
              "      <th>communityname</th>\n",
              "      <th>fold</th>\n",
              "      <th>population</th>\n",
              "      <th>householdsize</th>\n",
              "      <th>racepctblack</th>\n",
              "      <th>racePctWhite</th>\n",
              "      <th>racePctAsian</th>\n",
              "      <th>racePctHisp</th>\n",
              "      <th>agePct12t21</th>\n",
              "      <th>...</th>\n",
              "      <th>PctForeignBorn</th>\n",
              "      <th>PctBornSameState</th>\n",
              "      <th>PctSameHouse85</th>\n",
              "      <th>PctSameCity85</th>\n",
              "      <th>PctSameState85</th>\n",
              "      <th>LandArea</th>\n",
              "      <th>PopDens</th>\n",
              "      <th>PctUsePubTrans</th>\n",
              "      <th>LemasPctOfficDrugUn</th>\n",
              "      <th>ViolentCrimesPerPop</th>\n",
              "    </tr>\n",
              "  </thead>\n",
              "  <tbody>\n",
              "    <tr>\n",
              "      <th>0</th>\n",
              "      <td>1</td>\n",
              "      <td>Alabastercity</td>\n",
              "      <td>7</td>\n",
              "      <td>0.01</td>\n",
              "      <td>0.61</td>\n",
              "      <td>0.21</td>\n",
              "      <td>0.83</td>\n",
              "      <td>0.02</td>\n",
              "      <td>0.01</td>\n",
              "      <td>0.41</td>\n",
              "      <td>...</td>\n",
              "      <td>0.03</td>\n",
              "      <td>0.70</td>\n",
              "      <td>0.40</td>\n",
              "      <td>0.34</td>\n",
              "      <td>0.57</td>\n",
              "      <td>0.05</td>\n",
              "      <td>0.06</td>\n",
              "      <td>0.01</td>\n",
              "      <td>0.0</td>\n",
              "      <td>0.06</td>\n",
              "    </tr>\n",
              "    <tr>\n",
              "      <th>1</th>\n",
              "      <td>1</td>\n",
              "      <td>AlexanderCitycity</td>\n",
              "      <td>10</td>\n",
              "      <td>0.01</td>\n",
              "      <td>0.41</td>\n",
              "      <td>0.55</td>\n",
              "      <td>0.57</td>\n",
              "      <td>0.01</td>\n",
              "      <td>0.00</td>\n",
              "      <td>0.47</td>\n",
              "      <td>...</td>\n",
              "      <td>0.00</td>\n",
              "      <td>0.93</td>\n",
              "      <td>0.66</td>\n",
              "      <td>0.82</td>\n",
              "      <td>0.84</td>\n",
              "      <td>0.11</td>\n",
              "      <td>0.03</td>\n",
              "      <td>0.01</td>\n",
              "      <td>0.0</td>\n",
              "      <td>0.14</td>\n",
              "    </tr>\n",
              "    <tr>\n",
              "      <th>2</th>\n",
              "      <td>1</td>\n",
              "      <td>Annistoncity</td>\n",
              "      <td>3</td>\n",
              "      <td>0.03</td>\n",
              "      <td>0.34</td>\n",
              "      <td>0.86</td>\n",
              "      <td>0.30</td>\n",
              "      <td>0.04</td>\n",
              "      <td>0.01</td>\n",
              "      <td>0.41</td>\n",
              "      <td>...</td>\n",
              "      <td>0.04</td>\n",
              "      <td>0.77</td>\n",
              "      <td>0.59</td>\n",
              "      <td>0.70</td>\n",
              "      <td>0.64</td>\n",
              "      <td>0.06</td>\n",
              "      <td>0.11</td>\n",
              "      <td>0.04</td>\n",
              "      <td>0.0</td>\n",
              "      <td>1.00</td>\n",
              "    </tr>\n",
              "    <tr>\n",
              "      <th>3</th>\n",
              "      <td>1</td>\n",
              "      <td>Athenscity</td>\n",
              "      <td>8</td>\n",
              "      <td>0.01</td>\n",
              "      <td>0.38</td>\n",
              "      <td>0.35</td>\n",
              "      <td>0.71</td>\n",
              "      <td>0.04</td>\n",
              "      <td>0.01</td>\n",
              "      <td>0.39</td>\n",
              "      <td>...</td>\n",
              "      <td>0.03</td>\n",
              "      <td>0.78</td>\n",
              "      <td>0.56</td>\n",
              "      <td>0.67</td>\n",
              "      <td>0.71</td>\n",
              "      <td>0.09</td>\n",
              "      <td>0.05</td>\n",
              "      <td>0.00</td>\n",
              "      <td>0.0</td>\n",
              "      <td>0.23</td>\n",
              "    </tr>\n",
              "    <tr>\n",
              "      <th>4</th>\n",
              "      <td>1</td>\n",
              "      <td>Auburncity</td>\n",
              "      <td>1</td>\n",
              "      <td>0.04</td>\n",
              "      <td>0.37</td>\n",
              "      <td>0.32</td>\n",
              "      <td>0.70</td>\n",
              "      <td>0.21</td>\n",
              "      <td>0.02</td>\n",
              "      <td>1.00</td>\n",
              "      <td>...</td>\n",
              "      <td>0.12</td>\n",
              "      <td>0.49</td>\n",
              "      <td>0.12</td>\n",
              "      <td>0.00</td>\n",
              "      <td>0.15</td>\n",
              "      <td>0.09</td>\n",
              "      <td>0.09</td>\n",
              "      <td>0.01</td>\n",
              "      <td>0.0</td>\n",
              "      <td>0.15</td>\n",
              "    </tr>\n",
              "  </tbody>\n",
              "</table>\n",
              "<p>5 rows × 104 columns</p>\n",
              "</div>\n",
              "    <div class=\"colab-df-buttons\">\n",
              "\n",
              "  <div class=\"colab-df-container\">\n",
              "    <button class=\"colab-df-convert\" onclick=\"convertToInteractive('df-976c22fc-af45-4e48-bff4-f580a2d8f14e')\"\n",
              "            title=\"Convert this dataframe to an interactive table.\"\n",
              "            style=\"display:none;\">\n",
              "\n",
              "  <svg xmlns=\"http://www.w3.org/2000/svg\" height=\"24px\" viewBox=\"0 -960 960 960\">\n",
              "    <path d=\"M120-120v-720h720v720H120Zm60-500h600v-160H180v160Zm220 220h160v-160H400v160Zm0 220h160v-160H400v160ZM180-400h160v-160H180v160Zm440 0h160v-160H620v160ZM180-180h160v-160H180v160Zm440 0h160v-160H620v160Z\"/>\n",
              "  </svg>\n",
              "    </button>\n",
              "\n",
              "  <style>\n",
              "    .colab-df-container {\n",
              "      display:flex;\n",
              "      gap: 12px;\n",
              "    }\n",
              "\n",
              "    .colab-df-convert {\n",
              "      background-color: #E8F0FE;\n",
              "      border: none;\n",
              "      border-radius: 50%;\n",
              "      cursor: pointer;\n",
              "      display: none;\n",
              "      fill: #1967D2;\n",
              "      height: 32px;\n",
              "      padding: 0 0 0 0;\n",
              "      width: 32px;\n",
              "    }\n",
              "\n",
              "    .colab-df-convert:hover {\n",
              "      background-color: #E2EBFA;\n",
              "      box-shadow: 0px 1px 2px rgba(60, 64, 67, 0.3), 0px 1px 3px 1px rgba(60, 64, 67, 0.15);\n",
              "      fill: #174EA6;\n",
              "    }\n",
              "\n",
              "    .colab-df-buttons div {\n",
              "      margin-bottom: 4px;\n",
              "    }\n",
              "\n",
              "    [theme=dark] .colab-df-convert {\n",
              "      background-color: #3B4455;\n",
              "      fill: #D2E3FC;\n",
              "    }\n",
              "\n",
              "    [theme=dark] .colab-df-convert:hover {\n",
              "      background-color: #434B5C;\n",
              "      box-shadow: 0px 1px 3px 1px rgba(0, 0, 0, 0.15);\n",
              "      filter: drop-shadow(0px 1px 2px rgba(0, 0, 0, 0.3));\n",
              "      fill: #FFFFFF;\n",
              "    }\n",
              "  </style>\n",
              "\n",
              "    <script>\n",
              "      const buttonEl =\n",
              "        document.querySelector('#df-976c22fc-af45-4e48-bff4-f580a2d8f14e button.colab-df-convert');\n",
              "      buttonEl.style.display =\n",
              "        google.colab.kernel.accessAllowed ? 'block' : 'none';\n",
              "\n",
              "      async function convertToInteractive(key) {\n",
              "        const element = document.querySelector('#df-976c22fc-af45-4e48-bff4-f580a2d8f14e');\n",
              "        const dataTable =\n",
              "          await google.colab.kernel.invokeFunction('convertToInteractive',\n",
              "                                                    [key], {});\n",
              "        if (!dataTable) return;\n",
              "\n",
              "        const docLinkHtml = 'Like what you see? Visit the ' +\n",
              "          '<a target=\"_blank\" href=https://colab.research.google.com/notebooks/data_table.ipynb>data table notebook</a>'\n",
              "          + ' to learn more about interactive tables.';\n",
              "        element.innerHTML = '';\n",
              "        dataTable['output_type'] = 'display_data';\n",
              "        await google.colab.output.renderOutput(dataTable, element);\n",
              "        const docLink = document.createElement('div');\n",
              "        docLink.innerHTML = docLinkHtml;\n",
              "        element.appendChild(docLink);\n",
              "      }\n",
              "    </script>\n",
              "  </div>\n",
              "\n",
              "\n",
              "<div id=\"df-1f6e5d2a-1e00-4966-afb1-b6c1ec07b86c\">\n",
              "  <button class=\"colab-df-quickchart\" onclick=\"quickchart('df-1f6e5d2a-1e00-4966-afb1-b6c1ec07b86c')\"\n",
              "            title=\"Suggest charts\"\n",
              "            style=\"display:none;\">\n",
              "\n",
              "<svg xmlns=\"http://www.w3.org/2000/svg\" height=\"24px\"viewBox=\"0 0 24 24\"\n",
              "     width=\"24px\">\n",
              "    <g>\n",
              "        <path d=\"M19 3H5c-1.1 0-2 .9-2 2v14c0 1.1.9 2 2 2h14c1.1 0 2-.9 2-2V5c0-1.1-.9-2-2-2zM9 17H7v-7h2v7zm4 0h-2V7h2v10zm4 0h-2v-4h2v4z\"/>\n",
              "    </g>\n",
              "</svg>\n",
              "  </button>\n",
              "\n",
              "<style>\n",
              "  .colab-df-quickchart {\n",
              "      --bg-color: #E8F0FE;\n",
              "      --fill-color: #1967D2;\n",
              "      --hover-bg-color: #E2EBFA;\n",
              "      --hover-fill-color: #174EA6;\n",
              "      --disabled-fill-color: #AAA;\n",
              "      --disabled-bg-color: #DDD;\n",
              "  }\n",
              "\n",
              "  [theme=dark] .colab-df-quickchart {\n",
              "      --bg-color: #3B4455;\n",
              "      --fill-color: #D2E3FC;\n",
              "      --hover-bg-color: #434B5C;\n",
              "      --hover-fill-color: #FFFFFF;\n",
              "      --disabled-bg-color: #3B4455;\n",
              "      --disabled-fill-color: #666;\n",
              "  }\n",
              "\n",
              "  .colab-df-quickchart {\n",
              "    background-color: var(--bg-color);\n",
              "    border: none;\n",
              "    border-radius: 50%;\n",
              "    cursor: pointer;\n",
              "    display: none;\n",
              "    fill: var(--fill-color);\n",
              "    height: 32px;\n",
              "    padding: 0;\n",
              "    width: 32px;\n",
              "  }\n",
              "\n",
              "  .colab-df-quickchart:hover {\n",
              "    background-color: var(--hover-bg-color);\n",
              "    box-shadow: 0 1px 2px rgba(60, 64, 67, 0.3), 0 1px 3px 1px rgba(60, 64, 67, 0.15);\n",
              "    fill: var(--button-hover-fill-color);\n",
              "  }\n",
              "\n",
              "  .colab-df-quickchart-complete:disabled,\n",
              "  .colab-df-quickchart-complete:disabled:hover {\n",
              "    background-color: var(--disabled-bg-color);\n",
              "    fill: var(--disabled-fill-color);\n",
              "    box-shadow: none;\n",
              "  }\n",
              "\n",
              "  .colab-df-spinner {\n",
              "    border: 2px solid var(--fill-color);\n",
              "    border-color: transparent;\n",
              "    border-bottom-color: var(--fill-color);\n",
              "    animation:\n",
              "      spin 1s steps(1) infinite;\n",
              "  }\n",
              "\n",
              "  @keyframes spin {\n",
              "    0% {\n",
              "      border-color: transparent;\n",
              "      border-bottom-color: var(--fill-color);\n",
              "      border-left-color: var(--fill-color);\n",
              "    }\n",
              "    20% {\n",
              "      border-color: transparent;\n",
              "      border-left-color: var(--fill-color);\n",
              "      border-top-color: var(--fill-color);\n",
              "    }\n",
              "    30% {\n",
              "      border-color: transparent;\n",
              "      border-left-color: var(--fill-color);\n",
              "      border-top-color: var(--fill-color);\n",
              "      border-right-color: var(--fill-color);\n",
              "    }\n",
              "    40% {\n",
              "      border-color: transparent;\n",
              "      border-right-color: var(--fill-color);\n",
              "      border-top-color: var(--fill-color);\n",
              "    }\n",
              "    60% {\n",
              "      border-color: transparent;\n",
              "      border-right-color: var(--fill-color);\n",
              "    }\n",
              "    80% {\n",
              "      border-color: transparent;\n",
              "      border-right-color: var(--fill-color);\n",
              "      border-bottom-color: var(--fill-color);\n",
              "    }\n",
              "    90% {\n",
              "      border-color: transparent;\n",
              "      border-bottom-color: var(--fill-color);\n",
              "    }\n",
              "  }\n",
              "</style>\n",
              "\n",
              "  <script>\n",
              "    async function quickchart(key) {\n",
              "      const quickchartButtonEl =\n",
              "        document.querySelector('#' + key + ' button');\n",
              "      quickchartButtonEl.disabled = true;  // To prevent multiple clicks.\n",
              "      quickchartButtonEl.classList.add('colab-df-spinner');\n",
              "      try {\n",
              "        const charts = await google.colab.kernel.invokeFunction(\n",
              "            'suggestCharts', [key], {});\n",
              "      } catch (error) {\n",
              "        console.error('Error during call to suggestCharts:', error);\n",
              "      }\n",
              "      quickchartButtonEl.classList.remove('colab-df-spinner');\n",
              "      quickchartButtonEl.classList.add('colab-df-quickchart-complete');\n",
              "    }\n",
              "    (() => {\n",
              "      let quickchartButtonEl =\n",
              "        document.querySelector('#df-1f6e5d2a-1e00-4966-afb1-b6c1ec07b86c button');\n",
              "      quickchartButtonEl.style.display =\n",
              "        google.colab.kernel.accessAllowed ? 'block' : 'none';\n",
              "    })();\n",
              "  </script>\n",
              "</div>\n",
              "\n",
              "    </div>\n",
              "  </div>\n"
            ],
            "application/vnd.google.colaboratory.intrinsic+json": {
              "type": "dataframe",
              "variable_name": "communities_crime_df"
            }
          },
          "metadata": {},
          "execution_count": 6
        }
      ],
      "source": [
        "communities_crime_df = pd.read_csv('/content/communities-crime-clean (1).csv')\n",
        "\n",
        "# Sanity test we have good data\n",
        "communities_crime_df.head()\n"
      ]
    },
    {
      "cell_type": "markdown",
      "metadata": {
        "id": "UO6xjl99IJd4"
      },
      "source": [
        "### Q1. Decision Trees\n",
        "---\n",
        "#### a) Create a new field “highCrime” which is true if the crime rate per capita (ViolentCrimesPerPop) is greater than 0.1, and false otherwise. What are the percentage of positive and negative instances in the dataset?"
      ]
    },
    {
      "cell_type": "code",
      "execution_count": 7,
      "metadata": {
        "colab": {
          "base_uri": "https://localhost:8080/"
        },
        "id": "WbzuLloPIJd6",
        "outputId": "bb0b05fe-93d3-4eec-b949-7cf7188ff051"
      },
      "outputs": [
        {
          "output_type": "stream",
          "name": "stdout",
          "text": [
            "highCrime\n",
            "False    37.280482\n",
            "True     62.719518\n",
            "dtype: float64\n",
            "------------------\n",
            "Percentage Positive Instance = 62.719518314099346\n",
            "Percentage Negative Instance = 37.280481685900654 \n"
          ]
        }
      ],
      "source": [
        "def setHighCrime(df):\n",
        "    '''Function to set value of highCrime depending on ViolentCrimesPerPop'''\n",
        "    if df['ViolentCrimesPerPop'] > 0.1:\n",
        "        return True\n",
        "    else:\n",
        "        return False\n",
        "\n",
        "# Adding a new field \"highCrime\"\n",
        "communities_crime_df['highCrime'] = communities_crime_df.apply(setHighCrime, axis=1)\n",
        "\n",
        "# Calculating the percentage of positive and negative instances in the dataset\n",
        "percentage_intances = communities_crime_df.groupby('highCrime').size() * 100 / len(communities_crime_df)\n",
        "print(percentage_intances)\n",
        "print(\"------------------\")\n",
        "print(\"Percentage Positive Instance = {}\\nPercentage Negative Instance = {} \".format(percentage_intances[1],percentage_intances[0]))\n"
      ]
    },
    {
      "cell_type": "markdown",
      "metadata": {
        "id": "ne9pVo6rIJd7"
      },
      "source": [
        "#### b) Use DecisionTreeClassifier to learn a decision tree to predict highCrime on the entire dataset  \n",
        "##### i. What are the training accuracy, precision, and recall for this tree?"
      ]
    },
    {
      "cell_type": "code",
      "execution_count": 8,
      "metadata": {
        "colab": {
          "base_uri": "https://localhost:8080/"
        },
        "id": "GGYhlGipIJd7",
        "outputId": "5ad583da-f649-46c8-d3ec-947bf54abf97"
      },
      "outputs": [
        {
          "output_type": "stream",
          "name": "stdout",
          "text": [
            "Training Accuracy = 1.0 Precision = 1.0 Recall = 1.0\n"
          ]
        }
      ],
      "source": [
        "#Dropping non-predictive fields as well as ViolentCrimesPerPop field\n",
        "X = communities_crime_df.drop('ViolentCrimesPerPop', axis=1).drop('state', axis=1).drop('communityname', axis=1).drop('fold', axis=1).drop('highCrime', axis=1)\n",
        "features = list(X.columns)\n",
        "y = communities_crime_df[\"highCrime\"]\n",
        "\n",
        "\n",
        "# First, we tried by not defining the max depth\n",
        "dt_clf = DecisionTreeClassifier()\n",
        "dt_clf.fit(X,y)\n",
        "predicted = dt_clf.predict(X[features])\n",
        "recall_score = metrics.recall_score(communities_crime_df['highCrime'], predicted)\n",
        "precision_score = metrics.precision_score(communities_crime_df['highCrime'], predicted)\n",
        "accuracy_score = metrics.accuracy_score(communities_crime_df['highCrime'], predicted)\n",
        "print(\"Training Accuracy = {} Precision = {} Recall = {}\".format(accuracy_score,precision_score,recall_score))"
      ]
    },
    {
      "cell_type": "markdown",
      "metadata": {
        "collapsed": false,
        "id": "TNddaHEGIJd8"
      },
      "source": [
        "#### The scores values shows overfitting so we can define max_depth to avoid the complexity of the tree and to reach a point from where there is a decrease in the cross validation performance."
      ]
    },
    {
      "cell_type": "code",
      "execution_count": 9,
      "metadata": {
        "colab": {
          "base_uri": "https://localhost:8080/"
        },
        "id": "vDJ2E8YmIJd8",
        "outputId": "4cdd2627-9dec-452a-e8b6-3bc7918a8175"
      },
      "outputs": [
        {
          "output_type": "stream",
          "name": "stdout",
          "text": [
            "Depth: 1 Accuracy: 0.761\n",
            "Depth: 2 Accuracy: 0.776\n",
            "Depth: 3 Accuracy: 0.798\n",
            "Depth: 4 Accuracy: 0.790\n",
            "Depth: 5 Accuracy: 0.779\n",
            "Depth: 6 Accuracy: 0.768\n",
            "Depth: 7 Accuracy: 0.764\n",
            "Depth: 8 Accuracy: 0.746\n",
            "Depth: 9 Accuracy: 0.744\n"
          ]
        }
      ],
      "source": [
        "for depth in range(1,10):\n",
        "    tree_clf = DecisionTreeClassifier(max_depth=depth, random_state=0)\n",
        "    if tree_clf.fit(X,y).tree_.max_depth < depth:\n",
        "        break\n",
        "    score = np.mean(cross_val_score(tree_clf, X, y,scoring='accuracy', cv=10, n_jobs=1))\n",
        "    print(\"Depth: %i Accuracy: %.3f\" % (depth,score))"
      ]
    },
    {
      "cell_type": "markdown",
      "metadata": {
        "id": "P35NUvWYIJd9"
      },
      "source": [
        "#### We can see that the point up to which the performance is increasing is the depth 3. We can specify the depth and witness the results."
      ]
    },
    {
      "cell_type": "code",
      "execution_count": 10,
      "metadata": {
        "colab": {
          "base_uri": "https://localhost:8080/"
        },
        "id": "7tZ9FtdcIJd9",
        "outputId": "521b74c2-0773-4421-bb40-c764bf10f0b8"
      },
      "outputs": [
        {
          "output_type": "stream",
          "name": "stdout",
          "text": [
            "Accuracy for DT = 0.8359257400903161\n",
            "Precision for DT = 0.9002601908065915\n",
            "Recall for DT = 0.9002601908065915\n"
          ]
        }
      ],
      "source": [
        "dt_clf = DecisionTreeClassifier(max_depth=3)\n",
        "dt_clf.fit(X,y)\n",
        "#Predicting\n",
        "pred_dt= dt_clf.predict(X)\n",
        "dt_accuracy= metrics.accuracy_score(communities_crime_df['highCrime'], pred_dt)\n",
        "dt_precision= metrics.precision_score(communities_crime_df['highCrime'], pred_dt)\n",
        "dt_recall= metrics.recall_score(communities_crime_df['highCrime'], pred_dt)\n",
        "print(\"Accuracy for DT =\",dt_accuracy)\n",
        "print(\"Precision for DT =\",dt_precision)\n",
        "print(\"Recall for DT =\",dt_precision)"
      ]
    },
    {
      "cell_type": "markdown",
      "metadata": {
        "collapsed": false,
        "id": "MIxaAgs2IJd-"
      },
      "source": [
        "##### ii. What are the main features used for classification? Can you explain why they make sense (or not)?"
      ]
    },
    {
      "cell_type": "code",
      "execution_count": 11,
      "metadata": {
        "colab": {
          "base_uri": "https://localhost:8080/",
          "height": 241
        },
        "id": "gMxRNCEzIJd-",
        "outputId": "1f00440c-101d-4584-ac3a-2a714750d8ce"
      },
      "outputs": [
        {
          "output_type": "execute_result",
          "data": {
            "image/png": "[encoded data removed]",
            "text/plain": [
              "<IPython.core.display.Image object>"
            ]
          },
          "metadata": {},
          "execution_count": 11
        }
      ],
      "source": [
        "dot_data = tree.export_graphviz(dt_clf, out_file=None,feature_names=list(X))\n",
        "\n",
        "graph = pydotplus.graph_from_dot_data(dot_data)\n",
        "Image(graph.create_png())"
      ]
    },
    {
      "cell_type": "code",
      "execution_count": 12,
      "metadata": {
        "colab": {
          "base_uri": "https://localhost:8080/"
        },
        "id": "HCoxvC05IJd_",
        "outputId": "372c5cd4-8121-497b-ce84-3391d1a3d2da"
      },
      "outputs": [
        {
          "output_type": "stream",
          "name": "stdout",
          "text": [
            "Feature ranking:\n",
            "The main features used for classification\n",
            "Index(['PctKids2Par', 'racePctWhite', 'racePctHisp', 'HousVacant',\n",
            "       'LemasPctOfficDrugUn'],\n",
            "      dtype='object')\n",
            "Top main feature is PctKids2Par\n"
          ]
        }
      ],
      "source": [
        "# We can check the main features used for classification by checking the feature importance, the higher the value,\n",
        "# more important the feature would be.\n",
        "# We can sort the importance scores in descending order and take the top most.\n",
        "importances=dt_clf.feature_importances_\n",
        "indices = np.argsort(importances)[::-1]\n",
        "# Print the feature ranking\n",
        "print(\"Feature ranking:\")\n",
        "# We have taken the top 5 feature\n",
        "print(\"The main features used for classification\")\n",
        "print(X.columns[indices[:5]])\n",
        "print(\"Top main feature is\",X.columns[indices[:1]][0])"
      ]
    },
    {
      "cell_type": "markdown",
      "metadata": {
        "id": "E2x5UJCLIJd_"
      },
      "source": [
        "#### The top main feature is PctKids2Par because it is the split point of the tree. This feature depicts the kids with two parents."
      ]
    },
    {
      "cell_type": "markdown",
      "metadata": {
        "id": "FaVn36KPIJd_"
      },
      "source": [
        "#### c. Now apply cross-validation (cross_val_score) to do 10-fold cross-validation to estimate the out-of-training accuracy of decision tree learning for this task.  \n",
        "##### i. What are the 10-fold cross-validation accuracy, precision, and recall?"
      ]
    },
    {
      "cell_type": "code",
      "execution_count": 13,
      "metadata": {
        "colab": {
          "base_uri": "https://localhost:8080/"
        },
        "id": "S9jCyubEIJd_",
        "outputId": "033fdf16-c92c-4bb9-c665-6af0cad8afb9"
      },
      "outputs": [
        {
          "output_type": "stream",
          "name": "stdout",
          "text": [
            "Cross Validation Accuracy DT: 0.7982437185929648\n",
            "Cross Validation Recall DT: 0.8432674799594686\n",
            "Cross Validation Precision DT: 0.8392\n"
          ]
        }
      ],
      "source": [
        "# Applying 10 fold cross validation\n",
        "dt_cv_accuracy = cross_val_score(dt_clf, X, y, cv=10).mean()\n",
        "dt_cv_precision= cross_val_score(dt_clf, X, y, cv=10, scoring='precision').mean()\n",
        "dt_cv_recall = cross_val_score(dt_clf, X, y, cv=10, scoring='recall').mean()\n",
        "print(\"Cross Validation Accuracy DT:\", dt_cv_accuracy)\n",
        "print(\"Cross Validation Recall DT:\", dt_cv_precision)\n",
        "print(\"Cross Validation Precision DT:\", dt_cv_recall)\n"
      ]
    },
    {
      "cell_type": "markdown",
      "metadata": {
        "id": "1mpKI_BVIJeA"
      },
      "source": [
        "##### ii. Why are they different from the results in the previous test?\n",
        "We use cross-validation to get a better estimate of the generalization error on new unseen data where as the common problem that is in Decision trees is overfitting, in which many training examples are fitting the training data perfectly or nearly perfectly which leads to an overly specific model and lower performance. Thus, we\n",
        "contrained the tree to include only up to three levels, since a simple tree is more general. Thus, the results obtained after specifying are more realistic.\n",
        "These results are different from cross validation results as the train and test data are different in cross validation on the other hand DT train on all the exmaples."
      ]
    },
    {
      "cell_type": "markdown",
      "metadata": {
        "id": "3z3Bg9PDIJeA"
      },
      "source": [
        "### 2. Linear Classification\n",
        "---\n",
        "#### a. Use GaussianNB to learn a Naive Bayes classifier to predict highCrime.  \n",
        "##### i. What is the 10-fold cross-validation accuracy, precision, and recall for this method?"
      ]
    },
    {
      "cell_type": "code",
      "execution_count": 14,
      "metadata": {
        "colab": {
          "base_uri": "https://localhost:8080/"
        },
        "id": "lNKQFWsMIJeA",
        "outputId": "f3a3600e-844f-427e-cf04-8b90cb367743"
      },
      "outputs": [
        {
          "output_type": "stream",
          "name": "stdout",
          "text": [
            "Accuracy for gaussian : 0.761608040201005\n",
            "Recall for gaussian: 0.692\n",
            "Precision for gaussian: 0.9117998148278733\n"
          ]
        }
      ],
      "source": [
        "# Using GaussianNB\n",
        "gaussian_clf = GaussianNB()\n",
        "gaussian_clf.fit(X, y)\n",
        "\n",
        "# Applying 10 fold cross validation\n",
        "gaussian_accuracy = cross_val_score(gaussian_clf, X, y, cv=10).mean()\n",
        "gaussian_precision= cross_val_score(gaussian_clf, X, y, cv=10, scoring='precision').mean()\n",
        "gaussian_recall = cross_val_score(gaussian_clf, X, y, cv=10, scoring='recall').mean()\n",
        "print(\"Accuracy for gaussian :\", gaussian_accuracy)\n",
        "print(\"Recall for gaussian:\", gaussian_recall)\n",
        "print(\"Precision for gaussian:\", gaussian_precision)\n"
      ]
    },
    {
      "cell_type": "markdown",
      "metadata": {
        "id": "QkwQ-GSQIJeB"
      },
      "source": [
        "What are the 10 most predictive features? This can be\n",
        "measured by the normalized absolute difference of means for\n",
        "the feature between the two classes:\n",
        "|𝜇𝑇 − 𝜇𝐹|/𝜎𝑇 + 𝜎𝐹\n",
        "The larger this different, the more predictive the feature. Why\n",
        "do these make sense (or not)?"
      ]
    },
    {
      "cell_type": "code",
      "execution_count": 15,
      "metadata": {
        "colab": {
          "base_uri": "https://localhost:8080/"
        },
        "id": "BORO0JvjIJeB",
        "outputId": "cb23d0cc-86e1-4584-ad4c-b9d489d54180"
      },
      "outputs": [
        {
          "output_type": "stream",
          "name": "stdout",
          "text": [
            "('MalePctDivorce', 0.6165342437579298)\n",
            "('PctTeen2Par', 0.6426208020335654)\n",
            "('pctWInvInc', 0.6607203219208595)\n",
            "('PctYoungKids2Par', 0.6646705535981006)\n",
            "('TotalPctDiv', 0.6742823162675438)\n",
            "('FemalePctDiv', 0.6936040623575479)\n",
            "('PctIlleg', 0.7089291060645281)\n",
            "('racePctWhite', 0.7348840522379326)\n",
            "('PctFam2Par', 0.7451615201199687)\n",
            "('PctKids2Par', 0.8093364216318341)\n"
          ]
        }
      ],
      "source": [
        "df_predictiveFeature = communities_crime_df.drop('state', axis=1).drop('communityname', axis=1).drop('fold', axis=1)\n",
        "\n",
        "dictPredFeature = {}\n",
        "# Collecting data for the two classes\n",
        "true_df = X[df_predictiveFeature['highCrime'] == 1]\n",
        "false_df = X[df_predictiveFeature['highCrime'] == 0]\n",
        "for column in X:\n",
        "    mean_true = true_df[column].mean()\n",
        "    mean_false = false_df[column].mean()\n",
        "    var_true = true_df[column].var()\n",
        "    var_false = false_df[column].var()\n",
        "    if(column != 'highCrime'):\n",
        "        predScore = abs((mean_true - mean_false))/(math.sqrt(var_true)+math.sqrt(var_false))\n",
        "        dictPredFeature[column] = predScore\n",
        "most_pred_features = sorted(dictPredFeature.items(), key=lambda x: x[1])[-10:]\n",
        "for i in most_pred_features:\n",
        "    print(i)\n"
      ]
    },
    {
      "cell_type": "markdown",
      "metadata": {
        "id": "7_X3jsZPIJeB"
      },
      "source": [
        "##### iii. How do these results compare with your results from decision trees, above?\n",
        "We have plotted the results obtained.  \n",
        "\n",
        "We can see that the accuracy and recall are higher in case of Decision Trees but the precision is higher in case of Gaussian NB.\n",
        "We have to consider different criteria for choosing a classifier depending upon what we are predicting. Accuracy is not always the most appropriate method to choose the classifier. Here, in case of Crime Prediction, Precision would be the best criteria to compare and it is higher in case of Gaussian NB so the results are better in this case."
      ]
    },
    {
      "cell_type": "code",
      "execution_count": 16,
      "metadata": {
        "colab": {
          "base_uri": "https://localhost:8080/",
          "height": 555
        },
        "id": "FM-DkwNsIJeB",
        "outputId": "188de372-181f-47fd-9fac-535e48ec92f5"
      },
      "outputs": [
        {
          "output_type": "stream",
          "name": "stderr",
          "text": [
            "<ipython-input-16-d64bf9ee6ef5>:10: UserWarning: color is redundantly defined by the 'color' keyword argument and the fmt string \"ro\" (-> color='r'). The keyword argument will take precedence.\n",
            "  plt.plot(x_axis_range,acc_list,'ro',color=\"Red\",label=\"Accuracy\")\n"
          ]
        },
        {
          "output_type": "display_data",
          "data": {
            "text/plain": [
              "<Figure size 640x480 with 1 Axes>"
            ],
            "image/png": "[encoded data removed]"
          },
          "metadata": {}
        }
      ],
      "source": [
        "labels = [\"DT\" ,\"GaussianNB\"]\n",
        "acc_list = [dt_cv_accuracy,gaussian_accuracy]\n",
        "pre_list = [dt_cv_precision,gaussian_precision]\n",
        "re_list = [dt_cv_recall,gaussian_recall]\n",
        "\n",
        "x_axis_range = range(2)\n",
        "plt.xticks(x_axis_range, labels, rotation='vertical')\n",
        "# plt.legend()\n",
        "\n",
        "plt.plot(x_axis_range,acc_list,'ro',color=\"Red\",label=\"Accuracy\")\n",
        "plt.plot(x_axis_range,pre_list,'>',color=\"green\",label=\"Precision\")\n",
        "plt.plot(x_axis_range,re_list,'<',color=\"green\",label=\"Recall\")\n",
        "\n",
        "plt.xlabel('Model')\n",
        "plt.ylabel('Metrics')\n",
        "plt.margins(0.2)\n",
        "plt.subplots_adjust(bottom=0.15)\n",
        "legend = plt.legend()\n",
        "plt.show()"
      ]
    },
    {
      "cell_type": "markdown",
      "metadata": {
        "id": "ligSpSyNIJeC"
      },
      "source": [
        "#### b. Use LinearSVC to learn a linear Support Vector Machine model to predict highCrime.\n",
        "##### i. What is the 10-fold cross-validation accuracy, precision, and recall for this method?"
      ]
    },
    {
      "cell_type": "code",
      "execution_count": 17,
      "metadata": {
        "colab": {
          "base_uri": "https://localhost:8080/"
        },
        "id": "L6WnOK1ZIJeC",
        "outputId": "a9876fc9-d7f7-46c2-e637-6ed3d1889918"
      },
      "outputs": [
        {
          "output_type": "stream",
          "name": "stdout",
          "text": [
            "Accuracy for LinearSVC is 0.8047537688442212\n",
            "Precision for LinearSVC is 0.8551793727894672\n",
            "Recall for LinearSVC is 0.8375999999999999\n"
          ]
        }
      ],
      "source": [
        "linearsvmclf = svm.SVC(kernel='linear', C =1.0)\n",
        "accuracy_svm = cross_val_score(linearsvmclf, X, y, cv=10, scoring='accuracy').mean()\n",
        "precision_svm = cross_val_score(linearsvmclf, X, y, cv=10, scoring='precision').mean()\n",
        "recall_svm = cross_val_score(linearsvmclf, X, y, cv=10, scoring='recall').mean()\n",
        "print ('Accuracy for LinearSVC is', accuracy_svm)\n",
        "print ('Precision for LinearSVC is', precision_svm)\n",
        "print ('Recall for LinearSVC is', recall_svm)"
      ]
    },
    {
      "cell_type": "markdown",
      "metadata": {
        "id": "x5taYsBfIJeD"
      },
      "source": [
        "#### ii. What are the 10 most predictive features? This can be measured by the absolute feature weights in the model. Why do these make sense (or not)?"
      ]
    },
    {
      "cell_type": "code",
      "execution_count": 18,
      "metadata": {
        "colab": {
          "base_uri": "https://localhost:8080/"
        },
        "id": "V-GnF3gKIJeD",
        "outputId": "fc074965-e939-4994-e9b1-2225576d98fb"
      },
      "outputs": [
        {
          "output_type": "execute_result",
          "data": {
            "text/plain": [
              "[('agePct12t21', 0.9844298794102277),\n",
              " ('RentHighQ', 0.9916382536109168),\n",
              " ('PersPerOccupHous', 1.0275543973528694),\n",
              " ('MalePctDivorce', 1.0735788418271697),\n",
              " ('population', 1.1086454264275019),\n",
              " ('PctFam2Par', 1.542652886903836),\n",
              " ('racepctblack', 1.7203177655788864),\n",
              " ('PctKids2Par', 2.0576723456133523),\n",
              " ('racePctWhite', 2.23515817846953),\n",
              " ('pctWInvInc', 2.3861552101921433)]"
            ]
          },
          "metadata": {},
          "execution_count": 18
        }
      ],
      "source": [
        "linearsvmclf.fit(X,y)\n",
        "\n",
        "linearsvmclf_coef_array = {}\n",
        "count = 0\n",
        "for i in X.columns:\n",
        "    linearsvmclf_coef_array[i] = abs(linearsvmclf.coef_[0][count])\n",
        "    count = count+ 1\n",
        "\n",
        "most_predictive_features = sorted(linearsvmclf_coef_array.items(), key=lambda x: x[1])[-10:]\n",
        "most_predictive_features\n"
      ]
    },
    {
      "cell_type": "markdown",
      "metadata": {
        "id": "5Bdq4y5YIJeD"
      },
      "source": [
        "#### iii. How do these results compare with your results from decision trees, above?"
      ]
    },
    {
      "cell_type": "markdown",
      "metadata": {
        "id": "AXgBYp_bIJeE"
      },
      "source": [
        "We have plotted the results obtained from linear SVM and DT.  \n",
        "We can see that the accuracy and recall are higher in case of Decision Trees but the precision is higher in case of linear SVM.\n",
        "Precision would be the best criteria to compare and it is higher in case of linear SVM so the results are better in this case."
      ]
    },
    {
      "cell_type": "code",
      "execution_count": 19,
      "metadata": {
        "colab": {
          "base_uri": "https://localhost:8080/",
          "height": 542
        },
        "id": "TURe05ARIJeE",
        "outputId": "b7f62584-f49a-4af4-fb7c-4fb670dfc51e"
      },
      "outputs": [
        {
          "output_type": "stream",
          "name": "stderr",
          "text": [
            "<ipython-input-19-65f32c606bba>:10: UserWarning: color is redundantly defined by the 'color' keyword argument and the fmt string \"ro\" (-> color='r'). The keyword argument will take precedence.\n",
            "  plt.plot(x_axis_range,acc_list,'ro',color=\"Red\",label=\"Accuracy\")\n"
          ]
        },
        {
          "output_type": "display_data",
          "data": {
            "text/plain": [
              "<Figure size 640x480 with 1 Axes>"
            ],
            "image/png": "[encoded data removed]"
          },
          "metadata": {}
        }
      ],
      "source": [
        "labels = [\"DT\" ,\"LinearSVC\"]\n",
        "acc_list = [dt_cv_accuracy,accuracy_svm]\n",
        "pre_list = [dt_cv_precision,precision_svm]\n",
        "re_list = [dt_cv_recall,recall_svm]\n",
        "\n",
        "x_axis_range = range(2)\n",
        "plt.xticks(x_axis_range, labels, rotation='vertical')\n",
        "# plt.legend()\n",
        "\n",
        "plt.plot(x_axis_range,acc_list,'ro',color=\"Red\",label=\"Accuracy\")\n",
        "plt.plot(x_axis_range,pre_list,'>',color=\"green\",label=\"Precision\")\n",
        "plt.plot(x_axis_range,re_list,'<',color=\"green\",label=\"Recall\")\n",
        "\n",
        "plt.xlabel('Model')\n",
        "plt.ylabel('Metrics')\n",
        "plt.margins(0.2)\n",
        "plt.subplots_adjust(bottom=0.15)\n",
        "legend = plt.legend()\n",
        "plt.show()"
      ]
    },
    {
      "cell_type": "markdown",
      "metadata": {
        "id": "sxm0nhznIJeF"
      },
      "source": [
        "### 3. Regression\n",
        "#### a. Use LinearRegression to learn a linear model directly predicting the crime rate per capita (ViolentCrimesPerPop).\n",
        "##### i. Using 10-fold cross-validation, what is the estimated meansquared- error (MSE) of the model?"
      ]
    },
    {
      "cell_type": "code",
      "execution_count": 21,
      "metadata": {
        "scrolled": true,
        "colab": {
          "base_uri": "https://localhost:8080/"
        },
        "id": "Kba6dbbxIJeF",
        "outputId": "ac6f5498-3cdb-47ab-84d6-8a94c8a7e208"
      },
      "outputs": [
        {
          "output_type": "stream",
          "name": "stdout",
          "text": [
            "Estimated meansquared- error (MSE) of the model is 0.020093969304445305\n"
          ]
        }
      ],
      "source": [
        "Y = communities_crime_df['ViolentCrimesPerPop']\n",
        "linear_regression = LinearRegression()\n",
        "#df = df.drop('highCrime', 1)\n",
        "mean_sq_err= cross_val_score(linear_regression,X, Y,cv=10,scoring='neg_mean_squared_error')\n",
        "print(\"Estimated meansquared- error (MSE) of the model is\",np.abs(mean_sq_err.mean()))"
      ]
    },
    {
      "cell_type": "markdown",
      "metadata": {
        "id": "jS6xovpMIJeF"
      },
      "source": [
        "##### ii. What is the MSE on the training set (train on all the data then test on it all)?"
      ]
    },
    {
      "cell_type": "code",
      "execution_count": 22,
      "metadata": {
        "colab": {
          "base_uri": "https://localhost:8080/"
        },
        "id": "59nm73R8IJeF",
        "outputId": "751ed913-18f4-41ab-d83f-43b0a44a1282"
      },
      "outputs": [
        {
          "output_type": "stream",
          "name": "stdout",
          "text": [
            "MSE on the training set is 0.016516774880307176\n"
          ]
        }
      ],
      "source": [
        "linear_regression.fit(X,Y)\n",
        "print(\"MSE on the training set is {}\".format(np.mean((linear_regression.predict(X) - Y) ** 2)))"
      ]
    },
    {
      "cell_type": "markdown",
      "metadata": {
        "id": "SjHWA28RIJeG"
      },
      "source": [
        "##### iii. What features are most predictive of a high crime rate? A low crime rate?\n",
        "We can check the most predictive features by checking the coefficients, the larger the coeff, more predictive the feature."
      ]
    },
    {
      "cell_type": "code",
      "execution_count": 23,
      "metadata": {
        "colab": {
          "base_uri": "https://localhost:8080/"
        },
        "id": "DOxtY1e-IJeG",
        "outputId": "3bd08d80-4561-48a7-b554-f62ae2f13a7d"
      },
      "outputs": [
        {
          "output_type": "stream",
          "name": "stdout",
          "text": [
            "Most Predictive Feature of a High Crime Rate is PersPerOccupHous\n",
            "Most Predictive Feature of a Low Crime Rate is PctPersOwnOccup\n"
          ]
        }
      ],
      "source": [
        "# Taking the coefficients in an array\n",
        "list_coef = np.array(linear_regression.coef_)\n",
        "\n",
        "\n",
        "print(\"Most Predictive Feature of a High Crime Rate is\", X.columns[np.argmax(list_coef)])\n",
        "print(\"Most Predictive Feature of a Low Crime Rate is\", X.columns[np.argmin(list_coef)])"
      ]
    },
    {
      "cell_type": "markdown",
      "metadata": {
        "id": "uJREd43IIJeG"
      },
      "source": [
        "#### b.Now use Ridge regression to reduce the amount of overfitting, using RidgeCV to pick the best alpha from among (10, 1, 0.1, 0.01, and 0.001).\n"
      ]
    },
    {
      "cell_type": "code",
      "execution_count": 24,
      "metadata": {
        "colab": {
          "base_uri": "https://localhost:8080/"
        },
        "id": "RSGFv7TlIJeH",
        "outputId": "783e3692-fd04-4148-df0d-d145df270ceb"
      },
      "outputs": [
        {
          "output_type": "stream",
          "name": "stdout",
          "text": [
            "Best alpha 1.0\n"
          ]
        }
      ],
      "source": [
        "clf = RidgeCV(alphas=(10, 1, 0.1, 0.01, 0.001))\n",
        "clf.fit(X, Y)\n",
        "print(\"Best alpha\", clf.alpha_)\n",
        "\n",
        "#Other way to find out best aplha\n",
        "#alphas = np.array([10, 1, 0.1, 0.01, 0.001])\n",
        "#model = Ridge()\n",
        "#grid = GridSearchCV(estimator=model, param_grid=dict(alpha=alphas))\n",
        "#grid.fit(X, Y)\n",
        "#print(grid.best_estimator_.alpha)"
      ]
    },
    {
      "cell_type": "markdown",
      "metadata": {
        "id": "NZI6pXV8IJeH"
      },
      "source": [
        "##### i. What is the estimated MSE of the model under 10-fold CV?"
      ]
    },
    {
      "cell_type": "code",
      "execution_count": 26,
      "metadata": {
        "colab": {
          "base_uri": "https://localhost:8080/"
        },
        "id": "J2AnbgjyIJeI",
        "outputId": "e37cceed-4291-4fa2-e612-f1cc715b4dcc"
      },
      "outputs": [
        {
          "output_type": "stream",
          "name": "stdout",
          "text": [
            "Estimated mean squared error (MSE) of the model is 0.5936145785945707\n"
          ]
        }
      ],
      "source": [
        "ridge_clf = linear_model.Ridge(alpha=1.0)\n",
        "ridge_clf.fit(X, Y)\n",
        "mean_sq_err = cross_val_score(ridge_clf, X, Y, cv=10)\n",
        "\n",
        "print(\"Estimated mean squared error (MSE) of the model is\", np.abs(mean_sq_err.mean()))"
      ]
    },
    {
      "cell_type": "markdown",
      "metadata": {
        "id": "U8GEhbUqIJeI"
      },
      "source": [
        "##### ii. What is the MSE on the training set (train on all the data then test on it all)?"
      ]
    },
    {
      "cell_type": "code",
      "execution_count": 27,
      "metadata": {
        "colab": {
          "base_uri": "https://localhost:8080/"
        },
        "id": "PH16mdXJIJeI",
        "outputId": "22bc7266-822f-4be9-dab3-7476131c6c06"
      },
      "outputs": [
        {
          "output_type": "stream",
          "name": "stdout",
          "text": [
            "MSE on the training set is 0.02\n"
          ]
        }
      ],
      "source": [
        "\n",
        "print(\"MSE on the training set is {0:0.2f}\".format(np.mean((ridge_clf.predict(X) - Y) ** 2)))\n",
        "\n",
        "#ridge_reg=linear_model.Ridge(alpha = 0.001)\n",
        "#ridge_reg.fit(X,Y)\n",
        "\n",
        "#print(\"Mean squared error: %.2f\"\n",
        "#      % np.mean((ridge_reg.predict(X) - Y) ** 2))\n",
        "#print(\"MSE on the training set is {}\".format(np.mean((ridge_reg.predict(X) - Y) ** 2)))"
      ]
    },
    {
      "cell_type": "markdown",
      "metadata": {
        "collapsed": false,
        "id": "MPghD4bHIJeJ"
      },
      "source": [
        "####  iii. What is the best alpha?\n",
        "We have calculate the best alpha using RidgeCV and re-verified by using GridSearchCV.  \n",
        "\n",
        "The best alpha is 1."
      ]
    },
    {
      "cell_type": "markdown",
      "metadata": {
        "collapsed": true,
        "id": "qJ_Y2WIdIJeJ"
      },
      "source": [
        "#### iv. What does this say about the amount of overfitting in linear regression for this problem?"
      ]
    },
    {
      "cell_type": "markdown",
      "metadata": {
        "id": "BibUZNl4IJeJ"
      },
      "source": [
        "#### c. Now use polynomial features to do quadratic (second-order) polynomial regression.\n",
        "##### i.What is the estimated MSE of the model under 10-fold CV?"
      ]
    },
    {
      "cell_type": "code",
      "execution_count": 31,
      "metadata": {
        "colab": {
          "base_uri": "https://localhost:8080/"
        },
        "id": "0-Q1ZboZIJeJ",
        "outputId": "33e11420-efc0-498d-a669-f0551a2e695a"
      },
      "outputs": [
        {
          "output_type": "stream",
          "name": "stdout",
          "text": [
            "Estimated MSE of the model under 10-fold CV is 1.1053962109580984\n"
          ]
        }
      ],
      "source": [
        "poly_feature = PolynomialFeatures(degree  = 2, interaction_only = False)\n",
        "poly_df = poly_feature.fit_transform(X)\n",
        "ridge_clf.fit(poly_df,y)\n",
        "## caluclating MSE\n",
        "poly_mse = cross_val_score(linear_regression, poly_df, y, scoring='neg_mean_squared_error', cv=10)\n",
        "print(\"Estimated MSE of the model under 10-fold CV is\",np.abs(poly_mse.mean()))\n"
      ]
    },
    {
      "cell_type": "code",
      "execution_count": 32,
      "metadata": {
        "colab": {
          "base_uri": "https://localhost:8080/"
        },
        "id": "pkmb9BzMIJeK",
        "outputId": "e12dc0f4-c4d9-49a9-f15a-b6fe50b5b7c9"
      },
      "outputs": [
        {
          "output_type": "stream",
          "name": "stdout",
          "text": [
            "Mean squared error: 0.23\n"
          ]
        }
      ],
      "source": [
        "\n",
        "print(\"Mean squared error: %.2f\" % np.mean((ridge_clf.predict(poly_df) - Y) ** 2))"
      ]
    },
    {
      "cell_type": "markdown",
      "metadata": {
        "id": "OQD5kt2cIJeK"
      },
      "source": [
        "##### Does this mean the quadratic model is better than the linear model for this problem?\n",
        "Polynomial Regression is not better than the linear model as the MSE is higher in this case if we compare the value of polynomial regression MSE which is 0.3 to the value of linear SVC mSE which is 0.02."
      ]
    },
    {
      "cell_type": "markdown",
      "metadata": {
        "id": "gAEpK5e1IJeL"
      },
      "source": [
        "### 4. Dirty Data\n",
        "#### Repeat the decision tree learning question for the full (non-clean) data set and present the results.\n",
        "#### a. Are the CV results better or worse? What does this say about the effect of missing values?"
      ]
    },
    {
      "cell_type": "code",
      "execution_count": 35,
      "metadata": {
        "id": "iJjDBC8SIJeL"
      },
      "outputs": [],
      "source": [
        "# import dirty data\n",
        "df_d = pd.read_csv('/content/communities-crime-full (1).csv')\n"
      ]
    },
    {
      "cell_type": "code",
      "source": [
        "!pip install scikit-learn"
      ],
      "metadata": {
        "colab": {
          "base_uri": "https://localhost:8080/"
        },
        "id": "BaxGc9m3Mul3",
        "outputId": "e917fa1c-5cd9-4630-80fa-772efb24ec44"
      },
      "execution_count": 38,
      "outputs": [
        {
          "output_type": "stream",
          "name": "stdout",
          "text": [
            "Requirement already satisfied: scikit-learn in /usr/local/lib/python3.10/dist-packages (1.2.2)\n",
            "Requirement already satisfied: numpy>=1.17.3 in /usr/local/lib/python3.10/dist-packages (from scikit-learn) (1.25.2)\n",
            "Requirement already satisfied: scipy>=1.3.2 in /usr/local/lib/python3.10/dist-packages (from scikit-learn) (1.11.4)\n",
            "Requirement already satisfied: joblib>=1.1.1 in /usr/local/lib/python3.10/dist-packages (from scikit-learn) (1.3.2)\n",
            "Requirement already satisfied: threadpoolctl>=2.0.0 in /usr/local/lib/python3.10/dist-packages (from scikit-learn) (3.4.0)\n"
          ]
        }
      ]
    },
    {
      "cell_type": "code",
      "source": [
        "from sklearn.impute import SimpleImputer"
      ],
      "metadata": {
        "id": "UwAXHRSpM-4e"
      },
      "execution_count": 39,
      "outputs": []
    },
    {
      "cell_type": "code",
      "execution_count": 42,
      "metadata": {
        "colab": {
          "base_uri": "https://localhost:8080/"
        },
        "id": "uqRo30_pIJeL",
        "outputId": "116be74d-f4b4-4465-a38b-bd30c2a0a280"
      },
      "outputs": [
        {
          "output_type": "stream",
          "name": "stdout",
          "text": [
            "highCrime\n",
            "False    37.261785\n",
            "True     62.738215\n",
            "dtype: float64\n",
            "------------------\n",
            "Percentage Positive Instance = 62.7382146439318\n",
            "Percentage Negative Instance = 37.2617853560682\n"
          ]
        }
      ],
      "source": [
        "# Import necessary modules\n",
        "from sklearn.impute import SimpleImputer\n",
        "import pandas as pd\n",
        "import numpy as np\n",
        "\n",
        "# Making data clean\n",
        "df_d_clean = df_d.replace('?', np.nan)\n",
        "df_d_clean = df_d_clean.drop('community', axis=1).drop('state', axis=1).drop('communityname', axis=1).drop('fold', axis=1).drop('county', axis=1)\n",
        "cols_numeric = df_d_clean.columns\n",
        "\n",
        "# Impute missing values with the mean\n",
        "imputer = SimpleImputer(missing_values=np.nan, strategy='mean')\n",
        "Y = imputer.fit_transform(df_d_clean)\n",
        "df_d_clean = pd.DataFrame(Y)\n",
        "df_d_clean.columns = cols_numeric\n",
        "\n",
        "# Set high crime flag\n",
        "df_d_clean['highCrime'] = df_d_clean.apply(setHighCrime, axis=1)\n",
        "\n",
        "# Calculate percentage of instances\n",
        "percentage_intances = df_d_clean.groupby('highCrime').size() * 100 / len(df_d_clean)\n",
        "\n",
        "# Print results\n",
        "print(percentage_intances)\n",
        "print(\"------------------\")\n",
        "print(\"Percentage Positive Instance = {}\\nPercentage Negative Instance = {}\".format(percentage_intances[1], percentage_intances[0]))"
      ]
    },
    {
      "cell_type": "code",
      "execution_count": 43,
      "metadata": {
        "colab": {
          "base_uri": "https://localhost:8080/"
        },
        "id": "8EbGgib8IJeM",
        "outputId": "107f6ff2-ee22-4f18-fe27-9bad16400899"
      },
      "outputs": [
        {
          "output_type": "stream",
          "name": "stdout",
          "text": [
            "Training Accuracy = 0.8360080240722166 Precision = 0.9003466204506065 Recall = 0.8305355715427658\n"
          ]
        }
      ],
      "source": [
        "y = df_d_clean[\"highCrime\"]\n",
        "X = df_d_clean.drop('highCrime', axis=1).drop('ViolentCrimesPerPop', axis=1)\n",
        "\n",
        "# taking max_depth 3 to avoid overfitting\n",
        "dt = DecisionTreeClassifier(max_depth=3)\n",
        "\n",
        "dt.fit(X,y)\n",
        "predicted = dt.predict(X)\n",
        "\n",
        "recall_score = metrics.recall_score(df_d_clean['highCrime'], predicted)\n",
        "precision_score = metrics.precision_score(df_d_clean['highCrime'], predicted)\n",
        "accuracy_score = metrics.accuracy_score(df_d_clean['highCrime'], predicted)\n",
        "\n",
        "print(\"Training Accuracy = {} Precision = {} Recall = {}\".format(accuracy_score,precision_score,recall_score))"
      ]
    },
    {
      "cell_type": "code",
      "execution_count": 44,
      "metadata": {
        "colab": {
          "base_uri": "https://localhost:8080/"
        },
        "id": "MtWd7wATIJeM",
        "outputId": "7988427f-c40c-44fa-ebfe-703403602c48"
      },
      "outputs": [
        {
          "output_type": "stream",
          "name": "stdout",
          "text": [
            "Feature ranking:\n",
            "[44  3  5 71 39]\n",
            "Index(['PctKids2Par', 'racePctWhite', 'racePctHisp', 'HousVacant',\n",
            "       'MalePctNevMarr'],\n",
            "      dtype='object')\n"
          ]
        }
      ],
      "source": [
        "# We can check the main features used for classification by checking the feature importnaces, the higher the value,\n",
        "# more important the feature would be.\n",
        "# We can sort the impostamce scores in descending order and take the top most.\n",
        "importances=dt.feature_importances_\n",
        "indices = np.argsort(importances)[::-1]\n",
        "# Print the feature ranking\n",
        "print(\"Feature ranking:\")\n",
        "print(indices[:5])\n",
        "print(X.columns[indices[:5]])"
      ]
    },
    {
      "cell_type": "code",
      "execution_count": 45,
      "metadata": {
        "colab": {
          "base_uri": "https://localhost:8080/"
        },
        "id": "h6OOBTZUIJeN",
        "outputId": "269b44dc-9b0a-4c1e-ac05-94ab2783e636"
      },
      "outputs": [
        {
          "output_type": "stream",
          "name": "stdout",
          "text": [
            "Results after applying 10-fold cross-validation\n",
            "Accuracy: 0.81 (+/- 0.02)\n",
            "Recall 0.8193777777777778\n",
            "Precision 0.8784638467535306\n"
          ]
        }
      ],
      "source": [
        "scores = cross_val_score(dt, X, y, cv=10)\n",
        "\n",
        "precision= cross_val_score(dt, X, y, cv=10, scoring='precision')\n",
        "recal = cross_val_score(dt, X, y, cv=10, scoring='recall')\n",
        "print(\"Results after applying 10-fold cross-validation\")\n",
        "print(\"Accuracy: %0.2f (+/- %0.2f)\" % (scores.mean(), scores.std()))\n",
        "print(\"Recall\", np.mean(recal))\n",
        "print(\"Precision\", np.mean(precision))"
      ]
    },
    {
      "cell_type": "markdown",
      "metadata": {
        "id": "40FOW45hIJeN"
      },
      "source": [
        "##### a. Are the CV results better or worse? What does this say about the effect of missing values?\n",
        "The CV results are a tad better in clean data as compared to the dirty data.In case of dirty data we have replaced the missing values by mean so nothing can be said about those."
      ]
    },
    {
      "cell_type": "markdown",
      "metadata": {
        "id": "Xqswxkk7IJeO"
      },
      "source": [
        "## 5. Team Work\n",
        "### We have taken two learning methods: Polynomial Kernel and K means"
      ]
    },
    {
      "cell_type": "markdown",
      "metadata": {
        "id": "V_wzV1jcIJeO"
      },
      "source": [
        "i. Experiment with two learning methods other than those described above (one can be a non-linear kernel for SVM) for\n",
        "the classification problem, explaining clearly what you did.Show CV results for both the clean and full datasets."
      ]
    },
    {
      "cell_type": "code",
      "execution_count": 46,
      "metadata": {
        "colab": {
          "base_uri": "https://localhost:8080/"
        },
        "id": "g0wbTp-cIJeO",
        "outputId": "5bc23549-3a68-4d63-e94c-63ceba716298"
      },
      "outputs": [
        {
          "output_type": "stream",
          "name": "stdout",
          "text": [
            "Accuracy for polynomial(Dirty Data) is 0.8074221105527639\n",
            "Precision for polynomial(Dirty Data) is 0.8536771976997105\n",
            "Recall for polynomial(Dirty Data) is 0.8377460317460319\n"
          ]
        }
      ],
      "source": [
        "# Applying polynomial Kernel SVC\n",
        "poly_clf = svm.SVC(kernel='poly', degree=2, C= 50)\n",
        "X_d = X\n",
        "y_d = y\n",
        "# For large values of C, the optimization will choose a smaller-margin hyperplane if that hyperplane does a better job of getting all the training points classified correctly.\n",
        "# non clean dataset\n",
        "poly_accuracy_d = cross_val_score(poly_clf, X_d, y_d, cv=10, scoring='accuracy').mean()\n",
        "poly_precision_d = cross_val_score(poly_clf, X_d, y_d, cv=10, scoring='precision').mean()\n",
        "poly_recall_d = cross_val_score(poly_clf, X_d, y_d, cv=10, scoring='recall').mean()\n",
        "\n",
        "print ('Accuracy for polynomial(Dirty Data) is', poly_accuracy_d)\n",
        "print ('Precision for polynomial(Dirty Data) is', poly_precision_d)\n",
        "print ('Recall for polynomial(Dirty Data) is', poly_recall_d)\n",
        "\n",
        "\n"
      ]
    },
    {
      "cell_type": "code",
      "execution_count": 47,
      "metadata": {
        "colab": {
          "base_uri": "https://localhost:8080/"
        },
        "id": "nDjJYxN2IJeP",
        "outputId": "d3bb2e8c-e7a7-4ce7-b3a0-0cc2ee7654c9"
      },
      "outputs": [
        {
          "output_type": "stream",
          "name": "stdout",
          "text": [
            "Accuracy for polynomial(Clean Data) is 0.7385527638190956\n",
            "Precision for polynomial(Clean Data) is 0.7980639402193053\n",
            "Recall for polynomial(Clean Data) is 0.7935999999999999\n"
          ]
        }
      ],
      "source": [
        "# clean dataset\n",
        "X = communities_crime_df.drop('ViolentCrimesPerPop', axis=1).drop('state', axis=1).drop('communityname', axis=1).drop('fold', axis=1).drop('highCrime', axis=1)\n",
        "features = list(X.columns)\n",
        "y = communities_crime_df[\"highCrime\"]\n",
        "\n",
        "poly_accuracy = cross_val_score(poly_clf, X, y, cv=10, scoring='accuracy').mean()\n",
        "poly_precision = cross_val_score(poly_clf, X, y, cv=10, scoring='precision').mean()\n",
        "poly_recall = cross_val_score(poly_clf, X, y, cv=10, scoring='recall').mean()\n",
        "\n",
        "print ('Accuracy for polynomial(Clean Data) is', poly_accuracy)\n",
        "print ('Precision for polynomial(Clean Data) is', poly_precision)\n",
        "print ('Recall for polynomial(Clean Data) is', poly_recall)"
      ]
    },
    {
      "cell_type": "code",
      "execution_count": 48,
      "metadata": {
        "colab": {
          "base_uri": "https://localhost:8080/"
        },
        "id": "HY9phgjyIJeP",
        "outputId": "69329d37-de33-4247-8eed-1230e9eababa"
      },
      "outputs": [
        {
          "output_type": "stream",
          "name": "stderr",
          "text": [
            "/usr/local/lib/python3.10/dist-packages/sklearn/cluster/_kmeans.py:870: FutureWarning: The default value of `n_init` will change from 10 to 'auto' in 1.4. Set the value of `n_init` explicitly to suppress the warning\n",
            "  warnings.warn(\n",
            "/usr/local/lib/python3.10/dist-packages/sklearn/cluster/_kmeans.py:870: FutureWarning: The default value of `n_init` will change from 10 to 'auto' in 1.4. Set the value of `n_init` explicitly to suppress the warning\n",
            "  warnings.warn(\n",
            "/usr/local/lib/python3.10/dist-packages/sklearn/cluster/_kmeans.py:870: FutureWarning: The default value of `n_init` will change from 10 to 'auto' in 1.4. Set the value of `n_init` explicitly to suppress the warning\n",
            "  warnings.warn(\n",
            "/usr/local/lib/python3.10/dist-packages/sklearn/cluster/_kmeans.py:870: FutureWarning: The default value of `n_init` will change from 10 to 'auto' in 1.4. Set the value of `n_init` explicitly to suppress the warning\n",
            "  warnings.warn(\n",
            "/usr/local/lib/python3.10/dist-packages/sklearn/cluster/_kmeans.py:870: FutureWarning: The default value of `n_init` will change from 10 to 'auto' in 1.4. Set the value of `n_init` explicitly to suppress the warning\n",
            "  warnings.warn(\n",
            "/usr/local/lib/python3.10/dist-packages/sklearn/cluster/_kmeans.py:870: FutureWarning: The default value of `n_init` will change from 10 to 'auto' in 1.4. Set the value of `n_init` explicitly to suppress the warning\n",
            "  warnings.warn(\n",
            "/usr/local/lib/python3.10/dist-packages/sklearn/cluster/_kmeans.py:870: FutureWarning: The default value of `n_init` will change from 10 to 'auto' in 1.4. Set the value of `n_init` explicitly to suppress the warning\n",
            "  warnings.warn(\n",
            "/usr/local/lib/python3.10/dist-packages/sklearn/cluster/_kmeans.py:870: FutureWarning: The default value of `n_init` will change from 10 to 'auto' in 1.4. Set the value of `n_init` explicitly to suppress the warning\n",
            "  warnings.warn(\n",
            "/usr/local/lib/python3.10/dist-packages/sklearn/cluster/_kmeans.py:870: FutureWarning: The default value of `n_init` will change from 10 to 'auto' in 1.4. Set the value of `n_init` explicitly to suppress the warning\n",
            "  warnings.warn(\n",
            "/usr/local/lib/python3.10/dist-packages/sklearn/cluster/_kmeans.py:870: FutureWarning: The default value of `n_init` will change from 10 to 'auto' in 1.4. Set the value of `n_init` explicitly to suppress the warning\n",
            "  warnings.warn(\n",
            "/usr/local/lib/python3.10/dist-packages/sklearn/cluster/_kmeans.py:870: FutureWarning: The default value of `n_init` will change from 10 to 'auto' in 1.4. Set the value of `n_init` explicitly to suppress the warning\n",
            "  warnings.warn(\n",
            "/usr/local/lib/python3.10/dist-packages/sklearn/cluster/_kmeans.py:870: FutureWarning: The default value of `n_init` will change from 10 to 'auto' in 1.4. Set the value of `n_init` explicitly to suppress the warning\n",
            "  warnings.warn(\n",
            "/usr/local/lib/python3.10/dist-packages/sklearn/cluster/_kmeans.py:870: FutureWarning: The default value of `n_init` will change from 10 to 'auto' in 1.4. Set the value of `n_init` explicitly to suppress the warning\n",
            "  warnings.warn(\n",
            "/usr/local/lib/python3.10/dist-packages/sklearn/cluster/_kmeans.py:870: FutureWarning: The default value of `n_init` will change from 10 to 'auto' in 1.4. Set the value of `n_init` explicitly to suppress the warning\n",
            "  warnings.warn(\n",
            "/usr/local/lib/python3.10/dist-packages/sklearn/cluster/_kmeans.py:870: FutureWarning: The default value of `n_init` will change from 10 to 'auto' in 1.4. Set the value of `n_init` explicitly to suppress the warning\n",
            "  warnings.warn(\n",
            "/usr/local/lib/python3.10/dist-packages/sklearn/cluster/_kmeans.py:870: FutureWarning: The default value of `n_init` will change from 10 to 'auto' in 1.4. Set the value of `n_init` explicitly to suppress the warning\n",
            "  warnings.warn(\n",
            "/usr/local/lib/python3.10/dist-packages/sklearn/cluster/_kmeans.py:870: FutureWarning: The default value of `n_init` will change from 10 to 'auto' in 1.4. Set the value of `n_init` explicitly to suppress the warning\n",
            "  warnings.warn(\n",
            "/usr/local/lib/python3.10/dist-packages/sklearn/cluster/_kmeans.py:870: FutureWarning: The default value of `n_init` will change from 10 to 'auto' in 1.4. Set the value of `n_init` explicitly to suppress the warning\n",
            "  warnings.warn(\n",
            "/usr/local/lib/python3.10/dist-packages/sklearn/cluster/_kmeans.py:870: FutureWarning: The default value of `n_init` will change from 10 to 'auto' in 1.4. Set the value of `n_init` explicitly to suppress the warning\n",
            "  warnings.warn(\n",
            "/usr/local/lib/python3.10/dist-packages/sklearn/cluster/_kmeans.py:870: FutureWarning: The default value of `n_init` will change from 10 to 'auto' in 1.4. Set the value of `n_init` explicitly to suppress the warning\n",
            "  warnings.warn(\n",
            "/usr/local/lib/python3.10/dist-packages/sklearn/cluster/_kmeans.py:870: FutureWarning: The default value of `n_init` will change from 10 to 'auto' in 1.4. Set the value of `n_init` explicitly to suppress the warning\n",
            "  warnings.warn(\n",
            "/usr/local/lib/python3.10/dist-packages/sklearn/cluster/_kmeans.py:870: FutureWarning: The default value of `n_init` will change from 10 to 'auto' in 1.4. Set the value of `n_init` explicitly to suppress the warning\n",
            "  warnings.warn(\n",
            "/usr/local/lib/python3.10/dist-packages/sklearn/cluster/_kmeans.py:870: FutureWarning: The default value of `n_init` will change from 10 to 'auto' in 1.4. Set the value of `n_init` explicitly to suppress the warning\n",
            "  warnings.warn(\n",
            "/usr/local/lib/python3.10/dist-packages/sklearn/cluster/_kmeans.py:870: FutureWarning: The default value of `n_init` will change from 10 to 'auto' in 1.4. Set the value of `n_init` explicitly to suppress the warning\n",
            "  warnings.warn(\n",
            "/usr/local/lib/python3.10/dist-packages/sklearn/cluster/_kmeans.py:870: FutureWarning: The default value of `n_init` will change from 10 to 'auto' in 1.4. Set the value of `n_init` explicitly to suppress the warning\n",
            "  warnings.warn(\n",
            "/usr/local/lib/python3.10/dist-packages/sklearn/cluster/_kmeans.py:870: FutureWarning: The default value of `n_init` will change from 10 to 'auto' in 1.4. Set the value of `n_init` explicitly to suppress the warning\n",
            "  warnings.warn(\n",
            "/usr/local/lib/python3.10/dist-packages/sklearn/cluster/_kmeans.py:870: FutureWarning: The default value of `n_init` will change from 10 to 'auto' in 1.4. Set the value of `n_init` explicitly to suppress the warning\n",
            "  warnings.warn(\n",
            "/usr/local/lib/python3.10/dist-packages/sklearn/cluster/_kmeans.py:870: FutureWarning: The default value of `n_init` will change from 10 to 'auto' in 1.4. Set the value of `n_init` explicitly to suppress the warning\n",
            "  warnings.warn(\n",
            "/usr/local/lib/python3.10/dist-packages/sklearn/cluster/_kmeans.py:870: FutureWarning: The default value of `n_init` will change from 10 to 'auto' in 1.4. Set the value of `n_init` explicitly to suppress the warning\n",
            "  warnings.warn(\n",
            "/usr/local/lib/python3.10/dist-packages/sklearn/cluster/_kmeans.py:870: FutureWarning: The default value of `n_init` will change from 10 to 'auto' in 1.4. Set the value of `n_init` explicitly to suppress the warning\n",
            "  warnings.warn(\n"
          ]
        },
        {
          "output_type": "stream",
          "name": "stdout",
          "text": [
            "Accuracy for KMeans(Dirty data) is 0.45166080402010056\n",
            "Precision for KMeans(Dirty data) is 0.5997327704880047\n",
            "Recall for KMeans(Dirty data) is 0.46460346884306974\n"
          ]
        }
      ],
      "source": [
        "#clf = KMeans(n_clusters = 2)\n",
        "km_clf = KMeans(n_clusters = 2)\n",
        "km_accuracy_d = cross_val_score(km_clf, X_d, y_d, cv=10, scoring='accuracy').mean()\n",
        "km_precision_d = cross_val_score(km_clf, X_d, y_d, cv=10, scoring='precision').mean()\n",
        "km_recall_d = cross_val_score(km_clf, X_d, y_d, cv=10, scoring='recall').mean()\n",
        "\n",
        "print ('Accuracy for KMeans(Dirty data) is', km_accuracy_d)\n",
        "print ('Precision for KMeans(Dirty data) is', km_precision_d)\n",
        "print ('Recall for KMeans(Dirty data) is', km_recall_d)\n",
        "\n",
        "\n",
        "\n",
        "\n",
        "\n"
      ]
    },
    {
      "cell_type": "code",
      "execution_count": 49,
      "metadata": {
        "colab": {
          "base_uri": "https://localhost:8080/"
        },
        "id": "K9U1SFY4IJeP",
        "outputId": "c6e609fd-a4cf-4098-b200-9cc8487df737"
      },
      "outputs": [
        {
          "output_type": "stream",
          "name": "stderr",
          "text": [
            "/usr/local/lib/python3.10/dist-packages/sklearn/cluster/_kmeans.py:870: FutureWarning: The default value of `n_init` will change from 10 to 'auto' in 1.4. Set the value of `n_init` explicitly to suppress the warning\n",
            "  warnings.warn(\n",
            "/usr/local/lib/python3.10/dist-packages/sklearn/cluster/_kmeans.py:870: FutureWarning: The default value of `n_init` will change from 10 to 'auto' in 1.4. Set the value of `n_init` explicitly to suppress the warning\n",
            "  warnings.warn(\n",
            "/usr/local/lib/python3.10/dist-packages/sklearn/cluster/_kmeans.py:870: FutureWarning: The default value of `n_init` will change from 10 to 'auto' in 1.4. Set the value of `n_init` explicitly to suppress the warning\n",
            "  warnings.warn(\n",
            "/usr/local/lib/python3.10/dist-packages/sklearn/cluster/_kmeans.py:870: FutureWarning: The default value of `n_init` will change from 10 to 'auto' in 1.4. Set the value of `n_init` explicitly to suppress the warning\n",
            "  warnings.warn(\n",
            "/usr/local/lib/python3.10/dist-packages/sklearn/cluster/_kmeans.py:870: FutureWarning: The default value of `n_init` will change from 10 to 'auto' in 1.4. Set the value of `n_init` explicitly to suppress the warning\n",
            "  warnings.warn(\n",
            "/usr/local/lib/python3.10/dist-packages/sklearn/cluster/_kmeans.py:870: FutureWarning: The default value of `n_init` will change from 10 to 'auto' in 1.4. Set the value of `n_init` explicitly to suppress the warning\n",
            "  warnings.warn(\n",
            "/usr/local/lib/python3.10/dist-packages/sklearn/cluster/_kmeans.py:870: FutureWarning: The default value of `n_init` will change from 10 to 'auto' in 1.4. Set the value of `n_init` explicitly to suppress the warning\n",
            "  warnings.warn(\n",
            "/usr/local/lib/python3.10/dist-packages/sklearn/cluster/_kmeans.py:870: FutureWarning: The default value of `n_init` will change from 10 to 'auto' in 1.4. Set the value of `n_init` explicitly to suppress the warning\n",
            "  warnings.warn(\n",
            "/usr/local/lib/python3.10/dist-packages/sklearn/cluster/_kmeans.py:870: FutureWarning: The default value of `n_init` will change from 10 to 'auto' in 1.4. Set the value of `n_init` explicitly to suppress the warning\n",
            "  warnings.warn(\n",
            "/usr/local/lib/python3.10/dist-packages/sklearn/cluster/_kmeans.py:870: FutureWarning: The default value of `n_init` will change from 10 to 'auto' in 1.4. Set the value of `n_init` explicitly to suppress the warning\n",
            "  warnings.warn(\n",
            "/usr/local/lib/python3.10/dist-packages/sklearn/cluster/_kmeans.py:870: FutureWarning: The default value of `n_init` will change from 10 to 'auto' in 1.4. Set the value of `n_init` explicitly to suppress the warning\n",
            "  warnings.warn(\n",
            "/usr/local/lib/python3.10/dist-packages/sklearn/cluster/_kmeans.py:870: FutureWarning: The default value of `n_init` will change from 10 to 'auto' in 1.4. Set the value of `n_init` explicitly to suppress the warning\n",
            "  warnings.warn(\n",
            "/usr/local/lib/python3.10/dist-packages/sklearn/cluster/_kmeans.py:870: FutureWarning: The default value of `n_init` will change from 10 to 'auto' in 1.4. Set the value of `n_init` explicitly to suppress the warning\n",
            "  warnings.warn(\n",
            "/usr/local/lib/python3.10/dist-packages/sklearn/cluster/_kmeans.py:870: FutureWarning: The default value of `n_init` will change from 10 to 'auto' in 1.4. Set the value of `n_init` explicitly to suppress the warning\n",
            "  warnings.warn(\n",
            "/usr/local/lib/python3.10/dist-packages/sklearn/cluster/_kmeans.py:870: FutureWarning: The default value of `n_init` will change from 10 to 'auto' in 1.4. Set the value of `n_init` explicitly to suppress the warning\n",
            "  warnings.warn(\n",
            "/usr/local/lib/python3.10/dist-packages/sklearn/cluster/_kmeans.py:870: FutureWarning: The default value of `n_init` will change from 10 to 'auto' in 1.4. Set the value of `n_init` explicitly to suppress the warning\n",
            "  warnings.warn(\n",
            "/usr/local/lib/python3.10/dist-packages/sklearn/cluster/_kmeans.py:870: FutureWarning: The default value of `n_init` will change from 10 to 'auto' in 1.4. Set the value of `n_init` explicitly to suppress the warning\n",
            "  warnings.warn(\n",
            "/usr/local/lib/python3.10/dist-packages/sklearn/cluster/_kmeans.py:870: FutureWarning: The default value of `n_init` will change from 10 to 'auto' in 1.4. Set the value of `n_init` explicitly to suppress the warning\n",
            "  warnings.warn(\n",
            "/usr/local/lib/python3.10/dist-packages/sklearn/cluster/_kmeans.py:870: FutureWarning: The default value of `n_init` will change from 10 to 'auto' in 1.4. Set the value of `n_init` explicitly to suppress the warning\n",
            "  warnings.warn(\n",
            "/usr/local/lib/python3.10/dist-packages/sklearn/cluster/_kmeans.py:870: FutureWarning: The default value of `n_init` will change from 10 to 'auto' in 1.4. Set the value of `n_init` explicitly to suppress the warning\n",
            "  warnings.warn(\n",
            "/usr/local/lib/python3.10/dist-packages/sklearn/cluster/_kmeans.py:870: FutureWarning: The default value of `n_init` will change from 10 to 'auto' in 1.4. Set the value of `n_init` explicitly to suppress the warning\n",
            "  warnings.warn(\n",
            "/usr/local/lib/python3.10/dist-packages/sklearn/cluster/_kmeans.py:870: FutureWarning: The default value of `n_init` will change from 10 to 'auto' in 1.4. Set the value of `n_init` explicitly to suppress the warning\n",
            "  warnings.warn(\n",
            "/usr/local/lib/python3.10/dist-packages/sklearn/cluster/_kmeans.py:870: FutureWarning: The default value of `n_init` will change from 10 to 'auto' in 1.4. Set the value of `n_init` explicitly to suppress the warning\n",
            "  warnings.warn(\n",
            "/usr/local/lib/python3.10/dist-packages/sklearn/cluster/_kmeans.py:870: FutureWarning: The default value of `n_init` will change from 10 to 'auto' in 1.4. Set the value of `n_init` explicitly to suppress the warning\n",
            "  warnings.warn(\n",
            "/usr/local/lib/python3.10/dist-packages/sklearn/cluster/_kmeans.py:870: FutureWarning: The default value of `n_init` will change from 10 to 'auto' in 1.4. Set the value of `n_init` explicitly to suppress the warning\n",
            "  warnings.warn(\n",
            "/usr/local/lib/python3.10/dist-packages/sklearn/cluster/_kmeans.py:870: FutureWarning: The default value of `n_init` will change from 10 to 'auto' in 1.4. Set the value of `n_init` explicitly to suppress the warning\n",
            "  warnings.warn(\n",
            "/usr/local/lib/python3.10/dist-packages/sklearn/cluster/_kmeans.py:870: FutureWarning: The default value of `n_init` will change from 10 to 'auto' in 1.4. Set the value of `n_init` explicitly to suppress the warning\n",
            "  warnings.warn(\n",
            "/usr/local/lib/python3.10/dist-packages/sklearn/cluster/_kmeans.py:870: FutureWarning: The default value of `n_init` will change from 10 to 'auto' in 1.4. Set the value of `n_init` explicitly to suppress the warning\n",
            "  warnings.warn(\n",
            "/usr/local/lib/python3.10/dist-packages/sklearn/cluster/_kmeans.py:870: FutureWarning: The default value of `n_init` will change from 10 to 'auto' in 1.4. Set the value of `n_init` explicitly to suppress the warning\n",
            "  warnings.warn(\n",
            "/usr/local/lib/python3.10/dist-packages/sklearn/cluster/_kmeans.py:870: FutureWarning: The default value of `n_init` will change from 10 to 'auto' in 1.4. Set the value of `n_init` explicitly to suppress the warning\n",
            "  warnings.warn(\n"
          ]
        },
        {
          "output_type": "stream",
          "name": "stdout",
          "text": [
            "Accuracy is for KMeans(Clean data) 0.531321608040201\n",
            "Precision is for KMeans(Clean data) 0.6159956521356399\n",
            "Recall is for KMeans(Clean data) 0.5940003377256111\n"
          ]
        }
      ],
      "source": [
        "\n",
        "km_accuracy = cross_val_score(km_clf, X, y, cv=10, scoring='accuracy').mean()\n",
        "km_precision = cross_val_score(km_clf, X, y, cv=10, scoring='precision').mean()\n",
        "km_recall = cross_val_score(km_clf, X, y, cv=10, scoring='recall').mean()\n",
        "\n",
        "print ('Accuracy is for KMeans(Clean data)', km_accuracy)\n",
        "print ('Precision is for KMeans(Clean data)', km_precision)\n",
        "print ('Recall is for KMeans(Clean data)', km_recall)"
      ]
    },
    {
      "cell_type": "code",
      "execution_count": 50,
      "metadata": {
        "colab": {
          "base_uri": "https://localhost:8080/",
          "height": 557
        },
        "id": "kzGsFVakIJeQ",
        "outputId": "b39c9357-6ad6-4af6-e08c-a2b0ebbbeb91"
      },
      "outputs": [
        {
          "output_type": "stream",
          "name": "stderr",
          "text": [
            "<ipython-input-50-ad94920bc8d4>:9: UserWarning: color is redundantly defined by the 'color' keyword argument and the fmt string \"ro\" (-> color='r'). The keyword argument will take precedence.\n",
            "  plt.plot(xaxisRange,acc_list,'ro',color=\"Red\",label=\"Accuracy\")\n"
          ]
        },
        {
          "output_type": "display_data",
          "data": {
            "text/plain": [
              "<Figure size 640x480 with 1 Axes>"
            ],
            "image/png": "[encoded data removed]"
          },
          "metadata": {}
        }
      ],
      "source": [
        "names = [\"Nonlinear SVM\" ,\"K Means\"]\n",
        "acc_list = [poly_accuracy,km_accuracy]\n",
        "pre_list = [poly_precision,km_precision]\n",
        "re_list = [poly_recall,km_recall]\n",
        "xaxisRange = range(2)\n",
        "plt.xticks(xaxisRange, names, rotation=45)\n",
        "# plt.legend()\n",
        "\n",
        "plt.plot(xaxisRange,acc_list,'ro',color=\"Red\",label=\"Accuracy\")\n",
        "plt.plot(xaxisRange,pre_list,'>',color=\"green\",label=\"Precision\")\n",
        "plt.plot(xaxisRange,pre_list,'<',color=\"green\",label=\"Recall\")\n",
        "\n",
        "plt.xlabel('Model')\n",
        "plt.ylabel('Metrics')\n",
        "plt.margins(0.2)\n",
        "plt.subplots_adjust(bottom=0.15)\n",
        "legend = plt.legend()\n",
        "plt.show()"
      ]
    },
    {
      "cell_type": "markdown",
      "metadata": {
        "id": "Ki9ppQNdIJeQ"
      },
      "source": [
        "#### ii. What method gives the best results?  \n",
        "Clearly the Nonlinear SVM has better results for metrics as compared to the other model which is K means."
      ]
    },
    {
      "cell_type": "markdown",
      "metadata": {
        "id": "XwwVy3ibIJeR"
      },
      "source": [
        "#### iii. What feature(s) seem to be most consistently predictive of high crime rates? How reliable is this conclusion?"
      ]
    },
    {
      "cell_type": "markdown",
      "metadata": {
        "id": "NnXoAZ2gIJeR"
      },
      "source": [
        "## Extra Credit"
      ]
    },
    {
      "cell_type": "markdown",
      "metadata": {
        "id": "qp59iQjOIJeR"
      },
      "source": [
        "#### GradientBoostingClassifier"
      ]
    },
    {
      "cell_type": "code",
      "execution_count": 51,
      "metadata": {
        "colab": {
          "base_uri": "https://localhost:8080/"
        },
        "id": "gK1xpfMLIJeR",
        "outputId": "e4499772-55ac-4557-d82c-b219de411b0d"
      },
      "outputs": [
        {
          "output_type": "stream",
          "name": "stdout",
          "text": [
            "Accuracy for GradientBoostingClassifier(Dirty Data) is 0.8365075376884423\n",
            "Precision for GradientBoostingClassifier(Dirty Data) is 0.8744549805528324\n",
            "Recall for GradientBoostingClassifier(Dirty Data) is 0.8656952380952381\n"
          ]
        }
      ],
      "source": [
        "clf = GradientBoostingClassifier()\n",
        "clf.fit(X_d, y_d)\n",
        "#dirty dataset\n",
        "acc_scores = cross_val_score(clf, X_d, y_d, cv=10, scoring='accuracy').mean()\n",
        "pre_scores = cross_val_score(clf, X_d, y_d, cv=10, scoring='precision').mean()\n",
        "rec_scores = cross_val_score(clf, X_d, y_d, cv=10, scoring='recall').mean()\n",
        "print ('Accuracy for GradientBoostingClassifier(Dirty Data) is', acc_scores)\n",
        "print ('Precision for GradientBoostingClassifier(Dirty Data) is', pre_scores)\n",
        "print ('Recall for GradientBoostingClassifier(Dirty Data) is', rec_scores)\n",
        "\n",
        "\n"
      ]
    },
    {
      "cell_type": "code",
      "execution_count": 52,
      "metadata": {
        "colab": {
          "base_uri": "https://localhost:8080/"
        },
        "id": "UcbSh99mIJeS",
        "outputId": "c64b4ae6-9890-44a2-dbb4-a7f8aafaefd2"
      },
      "outputs": [
        {
          "output_type": "stream",
          "name": "stdout",
          "text": [
            "Accuracy GradientBoostingClassifier(Clean Data) is 0.7997160804020101\n",
            "Precision GradientBoostingClassifier(Clean Data)is 0.8478176651960305\n",
            "Recall is GradientBoostingClassifier(Clean Data) is  0.8343999999999999\n"
          ]
        }
      ],
      "source": [
        "#clean dataset\n",
        "clf.fit(X, y)\n",
        "acc_scores = cross_val_score(clf, X, y, cv=10, scoring='accuracy').mean()\n",
        "pre_scores = cross_val_score(clf, X, y, cv=10, scoring='precision').mean()\n",
        "rec_scores = cross_val_score(clf, X, y, cv=10, scoring='recall').mean()\n",
        "print ('Accuracy GradientBoostingClassifier(Clean Data) is', acc_scores)\n",
        "print ('Precision GradientBoostingClassifier(Clean Data)is', pre_scores)\n",
        "print ('Recall is GradientBoostingClassifier(Clean Data) is ', rec_scores)"
      ]
    },
    {
      "cell_type": "code",
      "execution_count": 53,
      "metadata": {
        "colab": {
          "base_uri": "https://localhost:8080/"
        },
        "id": "4DA8R-oXIJeT",
        "outputId": "1d63d372-5a5c-4df8-cea8-be3b8063bb41"
      },
      "outputs": [
        {
          "output_type": "stream",
          "name": "stdout",
          "text": [
            "Accuracy for RandomForestClassifier is 0.8239773869346733\n",
            "Precision for RandomForestClassifier is 0.8401511998487805\n",
            "Recall for RandomForestClassifier is 0.889688888888889\n"
          ]
        }
      ],
      "source": [
        "clf = RandomForestClassifier(random_state=100, max_depth=3)\n",
        "\n",
        "rf_accuracy = cross_val_score(clf, X_d, y_d, cv=10, scoring='accuracy').mean()\n",
        "rf_precision = cross_val_score(clf, X_d, y_d, cv=10, scoring='precision').mean()\n",
        "rf_recall = cross_val_score(clf, X_d, y_d, cv=10, scoring='recall').mean()\n",
        "\n",
        "print ('Accuracy for RandomForestClassifier is', rf_accuracy)\n",
        "print ('Precision for RandomForestClassifier is', rf_precision)\n",
        "print ('Recall for RandomForestClassifier is', rf_recall)"
      ]
    },
    {
      "cell_type": "markdown",
      "metadata": {
        "id": "iXY_s3QvIJeT"
      },
      "source": [
        "##### Random Classifier shows good results in terms of metrics and would be a good model to predict the crime data."
      ]
    },
    {
      "cell_type": "markdown",
      "metadata": {
        "id": "Fz1y0z4fIJeT"
      },
      "source": [
        "### Conclusion:\n",
        "\n",
        "We have applied various models including: Decision Trees, Gaussian NB, Linear VNM, Regression, Linear SVM, Non linear SVM, K means, Gradient Boosting Classifier and Random Forests. We also performed the 10 fold cross validation. The results are different and we have plotted results based on the metrics for the different models. It can further be tested on many models to identify the best that can be used to predict the crime rate."
      ]
    }
  ],
  "metadata": {
    "anaconda-cloud": {},
    "celltoolbar": "Raw Cell Format",
    "kernelspec": {
      "display_name": "Python 3",
      "language": "python",
      "name": "python3"
    },
    "language_info": {
      "codemirror_mode": {
        "name": "ipython",
        "version": 3
      },
      "file_extension": ".py",
      "mimetype": "text/x-python",
      "name": "python",
      "nbconvert_exporter": "python",
      "pygments_lexer": "ipython3",
      "version": "3.6.0"
    },
    "colab": {
      "provenance": [],
      "include_colab_link": true
    }
  },
  "nbformat": 4,
  "nbformat_minor": 0
}